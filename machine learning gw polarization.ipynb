{
 "cells": [
  {
   "cell_type": "markdown",
   "id": "a4a471c5",
   "metadata": {},
   "source": [
    "# Gravitational Wave Polarization Classification\n",
    "This project uses **machine learning** to classify gravitational wave signals into three polarization modes: Tensor (0), Vector (1), Scalar (2).\n",
    "\n",
    "Using Bayesian evidence ratios (logZ values) from waveform comparisons to as the features of each simulation."
   ]
  },
  {
   "cell_type": "markdown",
   "id": "d0a1c395",
   "metadata": {},
   "source": [
    "## Data Preparation\n",
    "We start with three datasets containing simulation results for different polarization types. Each contains:\n",
    "- Signal parameters (RA, Dec, SNR)\n",
    "- Bayesian evidences (logZ) for different polarization models\n",
    "- Localization information"
   ]
  },
  {
   "cell_type": "code",
   "execution_count": 1,
   "id": "64217f13",
   "metadata": {},
   "outputs": [],
   "source": [
    "import numpy as np\n",
    "import pandas as pd\n",
    "import matplotlib.pyplot as plt\n",
    "import seaborn as sns\n",
    "from sklearn.model_selection import train_test_split\n",
    "from sklearn.preprocessing import StandardScaler\n",
    "from sklearn.linear_model import LogisticRegression\n",
    "from sklearn.ensemble import RandomForestClassifier\n",
    "from sklearn.metrics import (accuracy_score, ConfusionMatrixDisplay)\n",
    "from sklearn.utils import shuffle"
   ]
  },
  {
   "cell_type": "code",
   "execution_count": 2,
   "id": "965e5508",
   "metadata": {},
   "outputs": [],
   "source": [
    "plt.rcParams['figure.figsize'] = (6, 4)\n",
    "RANDOM_STATE = 42"
   ]
  },
  {
   "cell_type": "code",
   "execution_count": 3,
   "id": "d7049acb",
   "metadata": {},
   "outputs": [
    {
     "name": "stdout",
     "output_type": "stream",
     "text": [
      "(200, 22)\n",
      "(199, 22)\n",
      "(200, 37)\n",
      "(199, 37)\n",
      "(200, 37)\n",
      "(200, 37)\n",
      "(598, 37)\n",
      "Min SNR: 1.186369953884686\n"
     ]
    }
   ],
   "source": [
    "# read data\n",
    "tsummary = pd.read_csv('tsummary.txt')\n",
    "vsummary = pd.read_csv('vsummary.txt')\n",
    "ssummary = pd.read_csv('ssummary.txt')\n",
    "#print(tsummary.columns)\n",
    "\n",
    "# encoding\n",
    "tsummary['polarization'] = 0\n",
    "vsummary['polarization'] = 1\n",
    "ssummary['polarization'] = 2\n",
    "#print(tsummary.columns)\n",
    "\n",
    "# Drop NaN values\n",
    "print(tsummary.shape)\n",
    "tsummary = tsummary.dropna()\n",
    "print(tsummary.shape)\n",
    "\n",
    "print(vsummary.shape)\n",
    "vsummary = vsummary.dropna()\n",
    "print(vsummary.shape)\n",
    "\n",
    "print(ssummary.shape)\n",
    "ssummary = ssummary.dropna()\n",
    "print(ssummary.shape)\n",
    "\n",
    "# Combine datasets\n",
    "summary = pd.concat([tsummary, vsummary, ssummary], axis=0, ignore_index=True)\n",
    "print(summary.shape)\n",
    "print(f'Min SNR: {summary.snr.min()}')"
   ]
  },
  {
   "cell_type": "markdown",
   "id": "fe29ac83",
   "metadata": {},
   "source": [
    "We create physics-informed features from the Bayesian evidence values:\n",
    "- Differences between logZ values of different models\n",
    "- Signal-to-noise ratio (SNR) filtering (≥8 for clear signals)\n"
   ]
  },
  {
   "cell_type": "code",
   "execution_count": 4,
   "id": "29694c14",
   "metadata": {},
   "outputs": [],
   "source": [
    "# Clean and filter data\n",
    "def preprocess_data(summary):\n",
    "    \n",
    "    # Remove low SNR events\n",
    "    summary = summary[summary['snr'] >= 8]\n",
    "    \n",
    "    # Create evidence difference features\n",
    "    df = pd.DataFrame()\n",
    "    df['btnvn'] = summary['logZ-tensor-N-0']-summary['logZ-vector-N-0']\n",
    "    df['btrvr'] = summary['logZ-tensor-R-1']-summary['logZ-vector-R-1']\n",
    "    df['btrsn'] = summary['logZ-tensor-R-1']-summary['logZ-scalar-N-0']\n",
    "    df['btnsp'] = summary['logZ-tensor-N-0']-summary['logZ-scalar-P-1']\n",
    "    df['bvrsn'] = summary['logZ-vector-R-1']-summary['logZ-scalar-N-0']\n",
    "    df['bvnsp'] = summary['logZ-vector-N-0']-summary['logZ-scalar-P-1']\n",
    "    df['snr'] = summary['snr']\n",
    "    df['polarization'] = summary['polarization']\n",
    "    \n",
    "    df = shuffle(df)\n",
    "    \n",
    "    return df"
   ]
  },
  {
   "cell_type": "code",
   "execution_count": 5,
   "id": "399676ae",
   "metadata": {},
   "outputs": [
    {
     "name": "stdout",
     "output_type": "stream",
     "text": [
      "[]\n",
      "Final dataset size: 503 simulations\n"
     ]
    },
    {
     "data": {
      "text/html": [
       "<div>\n",
       "<style scoped>\n",
       "    .dataframe tbody tr th:only-of-type {\n",
       "        vertical-align: middle;\n",
       "    }\n",
       "\n",
       "    .dataframe tbody tr th {\n",
       "        vertical-align: top;\n",
       "    }\n",
       "\n",
       "    .dataframe thead th {\n",
       "        text-align: right;\n",
       "    }\n",
       "</style>\n",
       "<table border=\"1\" class=\"dataframe\">\n",
       "  <thead>\n",
       "    <tr style=\"text-align: right;\">\n",
       "      <th></th>\n",
       "      <th>btnvn</th>\n",
       "      <th>btrvr</th>\n",
       "      <th>btrsn</th>\n",
       "      <th>btnsp</th>\n",
       "      <th>bvrsn</th>\n",
       "      <th>bvnsp</th>\n",
       "      <th>snr</th>\n",
       "      <th>polarization</th>\n",
       "    </tr>\n",
       "  </thead>\n",
       "  <tbody>\n",
       "    <tr>\n",
       "      <th>468</th>\n",
       "      <td>0.143315</td>\n",
       "      <td>-0.754770</td>\n",
       "      <td>-0.220524</td>\n",
       "      <td>-0.860934</td>\n",
       "      <td>0.534246</td>\n",
       "      <td>-1.004249</td>\n",
       "      <td>14.644487</td>\n",
       "      <td>2</td>\n",
       "    </tr>\n",
       "    <tr>\n",
       "      <th>355</th>\n",
       "      <td>-0.010332</td>\n",
       "      <td>-5.984617</td>\n",
       "      <td>0.465227</td>\n",
       "      <td>4.314331</td>\n",
       "      <td>6.449845</td>\n",
       "      <td>4.324663</td>\n",
       "      <td>20.861204</td>\n",
       "      <td>1</td>\n",
       "    </tr>\n",
       "    <tr>\n",
       "      <th>538</th>\n",
       "      <td>0.000633</td>\n",
       "      <td>0.661906</td>\n",
       "      <td>-0.134970</td>\n",
       "      <td>-0.637209</td>\n",
       "      <td>-0.796876</td>\n",
       "      <td>-0.637842</td>\n",
       "      <td>14.161207</td>\n",
       "      <td>2</td>\n",
       "    </tr>\n",
       "    <tr>\n",
       "      <th>312</th>\n",
       "      <td>0.360764</td>\n",
       "      <td>0.147762</td>\n",
       "      <td>0.017709</td>\n",
       "      <td>0.339139</td>\n",
       "      <td>-0.130053</td>\n",
       "      <td>-0.021624</td>\n",
       "      <td>10.818097</td>\n",
       "      <td>1</td>\n",
       "    </tr>\n",
       "    <tr>\n",
       "      <th>103</th>\n",
       "      <td>-0.406632</td>\n",
       "      <td>-0.694045</td>\n",
       "      <td>-0.254718</td>\n",
       "      <td>1.888509</td>\n",
       "      <td>0.439327</td>\n",
       "      <td>2.295141</td>\n",
       "      <td>20.151291</td>\n",
       "      <td>0</td>\n",
       "    </tr>\n",
       "    <tr>\n",
       "      <th>...</th>\n",
       "      <td>...</td>\n",
       "      <td>...</td>\n",
       "      <td>...</td>\n",
       "      <td>...</td>\n",
       "      <td>...</td>\n",
       "      <td>...</td>\n",
       "      <td>...</td>\n",
       "      <td>...</td>\n",
       "    </tr>\n",
       "    <tr>\n",
       "      <th>529</th>\n",
       "      <td>-0.020407</td>\n",
       "      <td>0.003164</td>\n",
       "      <td>0.034601</td>\n",
       "      <td>-0.288375</td>\n",
       "      <td>0.031437</td>\n",
       "      <td>-0.267968</td>\n",
       "      <td>8.765280</td>\n",
       "      <td>2</td>\n",
       "    </tr>\n",
       "    <tr>\n",
       "      <th>392</th>\n",
       "      <td>-0.146313</td>\n",
       "      <td>-1.896744</td>\n",
       "      <td>-5.380489</td>\n",
       "      <td>2.400101</td>\n",
       "      <td>-3.483745</td>\n",
       "      <td>2.546415</td>\n",
       "      <td>24.198099</td>\n",
       "      <td>1</td>\n",
       "    </tr>\n",
       "    <tr>\n",
       "      <th>456</th>\n",
       "      <td>-1.649974</td>\n",
       "      <td>9.098542</td>\n",
       "      <td>-0.240613</td>\n",
       "      <td>-0.841744</td>\n",
       "      <td>-9.339155</td>\n",
       "      <td>0.808230</td>\n",
       "      <td>20.589514</td>\n",
       "      <td>2</td>\n",
       "    </tr>\n",
       "    <tr>\n",
       "      <th>332</th>\n",
       "      <td>-1.834843</td>\n",
       "      <td>-7.454058</td>\n",
       "      <td>-21.338358</td>\n",
       "      <td>-0.871054</td>\n",
       "      <td>-13.884299</td>\n",
       "      <td>0.963789</td>\n",
       "      <td>35.142448</td>\n",
       "      <td>1</td>\n",
       "    </tr>\n",
       "    <tr>\n",
       "      <th>266</th>\n",
       "      <td>0.385932</td>\n",
       "      <td>-0.616219</td>\n",
       "      <td>0.693208</td>\n",
       "      <td>2.027091</td>\n",
       "      <td>1.309428</td>\n",
       "      <td>1.641160</td>\n",
       "      <td>14.880319</td>\n",
       "      <td>1</td>\n",
       "    </tr>\n",
       "  </tbody>\n",
       "</table>\n",
       "<p>503 rows × 8 columns</p>\n",
       "</div>"
      ],
      "text/plain": [
       "        btnvn     btrvr      btrsn     btnsp      bvrsn     bvnsp        snr  \\\n",
       "468  0.143315 -0.754770  -0.220524 -0.860934   0.534246 -1.004249  14.644487   \n",
       "355 -0.010332 -5.984617   0.465227  4.314331   6.449845  4.324663  20.861204   \n",
       "538  0.000633  0.661906  -0.134970 -0.637209  -0.796876 -0.637842  14.161207   \n",
       "312  0.360764  0.147762   0.017709  0.339139  -0.130053 -0.021624  10.818097   \n",
       "103 -0.406632 -0.694045  -0.254718  1.888509   0.439327  2.295141  20.151291   \n",
       "..        ...       ...        ...       ...        ...       ...        ...   \n",
       "529 -0.020407  0.003164   0.034601 -0.288375   0.031437 -0.267968   8.765280   \n",
       "392 -0.146313 -1.896744  -5.380489  2.400101  -3.483745  2.546415  24.198099   \n",
       "456 -1.649974  9.098542  -0.240613 -0.841744  -9.339155  0.808230  20.589514   \n",
       "332 -1.834843 -7.454058 -21.338358 -0.871054 -13.884299  0.963789  35.142448   \n",
       "266  0.385932 -0.616219   0.693208  2.027091   1.309428  1.641160  14.880319   \n",
       "\n",
       "     polarization  \n",
       "468             2  \n",
       "355             1  \n",
       "538             2  \n",
       "312             1  \n",
       "103             0  \n",
       "..            ...  \n",
       "529             2  \n",
       "392             1  \n",
       "456             2  \n",
       "332             1  \n",
       "266             1  \n",
       "\n",
       "[503 rows x 8 columns]"
      ]
     },
     "execution_count": 5,
     "metadata": {},
     "output_type": "execute_result"
    }
   ],
   "source": [
    "processed_summary = preprocess_data(summary)\n",
    "print(np.argwhere(np.isnan(processed_summary.values)))\n",
    "print(f\"Final dataset size: {len(processed_summary)} simulations\")\n",
    "processed_summary"
   ]
  },
  {
   "cell_type": "code",
   "execution_count": 6,
   "id": "74b1063b",
   "metadata": {},
   "outputs": [
    {
     "data": {
      "image/png": "[encoded data removed]",
      "text/plain": [
       "<Figure size 1000x600 with 1 Axes>"
      ]
     },
     "metadata": {},
     "output_type": "display_data"
    },
    {
     "data": {
      "text/plain": [
       "\"\\n# Plot feature distributions\\ng = sns.PairGrid(processed_summary, hue='polarization', palette='viridis')\\ng.map_upper(sns.scatterplot, alpha=0.6)\\ng.map_lower(sns.kdeplot)\\ng.map_diag(sns.histplot, kde=True)\\ng.add_legend()\\nplt.suptitle('Feature Distributions and Relationships', y=1.02)\\nplt.show()\\n\""
      ]
     },
     "execution_count": 6,
     "metadata": {},
     "output_type": "execute_result"
    }
   ],
   "source": [
    "# Plot class distribution\n",
    "plt.figure(figsize=(10,6))\n",
    "sns.countplot(x='polarization', data=processed_summary,\n",
    "              hue='polarization', palette='viridis', legend=False)\n",
    "plt.title('Class Distribution by Polarization Type')\n",
    "plt.xlabel('Polarization Type (0=Tensor, 1=Vector, 2=Scalar)')\n",
    "plt.ylabel('Number of Simulations')\n",
    "plt.show()\n",
    "\n",
    "'''\n",
    "# Plot feature distributions\n",
    "g = sns.PairGrid(processed_summary, hue='polarization', palette='viridis')\n",
    "g.map_upper(sns.scatterplot, alpha=0.6)\n",
    "g.map_lower(sns.kdeplot)\n",
    "g.map_diag(sns.histplot, kde=True)\n",
    "g.add_legend()\n",
    "plt.suptitle('Feature Distributions and Relationships', y=1.02)\n",
    "plt.show()\n",
    "'''"
   ]
  },
  {
   "cell_type": "markdown",
   "id": "95321265",
   "metadata": {},
   "source": [
    "## Machine Learning Models\n",
    "We'll compare two models:\n",
    "1. Logistic Regression\n",
    "2. Random Forest"
   ]
  },
  {
   "cell_type": "code",
   "execution_count": 7,
   "id": "b1b01fa9",
   "metadata": {},
   "outputs": [],
   "source": [
    "# Prepare data\n",
    "X = processed_summary.drop(['polarization'], axis=1)\n",
    "y = processed_summary['polarization']\n",
    "\n",
    "# Split data - stratified to maintain class balance\n",
    "X_train, X_test, y_train, y_test = train_test_split(\n",
    "    X, y, test_size=0.2, stratify=y, random_state=RANDOM_STATE\n",
    ")\n",
    "\n",
    "# Standardize features\n",
    "scaler = StandardScaler()\n",
    "X_train = scaler.fit_transform(X_train)\n",
    "X_test = scaler.transform(X_test)"
   ]
  },
  {
   "cell_type": "code",
   "execution_count": 8,
   "id": "b10f6573",
   "metadata": {},
   "outputs": [],
   "source": [
    "def evaluate_model(model, X_test, y_test):\n",
    "    # Print accuracy and confusion matrix\n",
    "    y_pred = model.predict(X_test)\n",
    "    \n",
    "    print(f\"Accuracy: {accuracy_score(y_test, y_pred):.2f}\")\n",
    "    \n",
    "    fig, ax = plt.subplots(figsize=(10,7))\n",
    "    ConfusionMatrixDisplay.from_predictions(\n",
    "        y_test, y_pred,\n",
    "        display_labels=['Tensor', 'Vector', 'Scalar'],\n",
    "        cmap='Blues', ax=ax\n",
    "    )\n",
    "    plt.title('Confusion Matrix')\n",
    "    plt.show()"
   ]
  },
  {
   "cell_type": "markdown",
   "id": "1444e61e",
   "metadata": {},
   "source": [
    "### 1. Logistic Regression"
   ]
  },
  {
   "cell_type": "code",
   "execution_count": null,
   "id": "54009700",
   "metadata": {
    "scrolled": true
   },
   "outputs": [
    {
     "name": "stdout",
     "output_type": "stream",
     "text": [
      "---Logistic regression model---\n",
      "Accuracy: 0.72\n"
     ]
    },
    {
     "data": {
      "image/png": "[encoded data removed]",
      "text/plain": [
       "<Figure size 1000x700 with 2 Axes>"
      ]
     },
     "metadata": {},
     "output_type": "display_data"
    }
   ],
   "source": [
    "lr_model = LogisticRegression(max_iter=10000, random_state=RANDOM_STATE)\n",
    "lr_model.fit(X_train, y_train)\n",
    "\n",
    "print('---Logistic regression model---')\n",
    "evaluate_model(lr_model, X_test, y_test)"
   ]
  },
  {
   "cell_type": "markdown",
   "id": "4875527e",
   "metadata": {},
   "source": [
    "### 2. Random Forest"
   ]
  },
  {
   "cell_type": "code",
   "execution_count": null,
   "id": "5a3ca568",
   "metadata": {},
   "outputs": [
    {
     "name": "stdout",
     "output_type": "stream",
     "text": [
      "---Random forest model---\n",
      "Accuracy: 0.76\n"
     ]
    },
    {
     "data": {
      "image/png": "[encoded data removed]",
      "text/plain": [
       "<Figure size 1000x700 with 2 Axes>"
      ]
     },
     "metadata": {},
     "output_type": "display_data"
    }
   ],
   "source": [
    "\n",
    "rf_model = RandomForestClassifier(n_estimators=200, random_state=RANDOM_STATE)\n",
    "rf_model.fit(X_train, y_train)\n",
    "\n",
    "print('---Random forest model---')\n",
    "evaluate_model(rf_model, X_test, y_test)"
   ]
  },
  {
   "cell_type": "code",
   "execution_count": null,
   "id": "0387915a",
   "metadata": {},
   "outputs": [],
   "source": [
    "# save the model to file\n",
    "from joblib import dump\n",
    "dump(lr_model, 'logisticreg_gwpl_model.joblib')\n",
    "dump(rf_model, 'randomforest_gwpl_model.joblib')"
   ]
  },
  {
   "cell_type": "code",
   "execution_count": null,
   "id": "a8631fd7",
   "metadata": {},
   "outputs": [],
   "source": []
  }
 ],
 "metadata": {
  "kernelspec": {
   "display_name": "Python 3",
   "language": "python",
   "name": "python3"
  },
  "language_info": {
   "codemirror_mode": {
    "name": "ipython",
    "version": 3
   },
   "file_extension": ".py",
   "mimetype": "text/x-python",
   "name": "python",
   "nbconvert_exporter": "python",
   "pygments_lexer": "ipython3",
   "version": "3.10.7"
  }
 },
 "nbformat": 4,
 "nbformat_minor": 5
}
